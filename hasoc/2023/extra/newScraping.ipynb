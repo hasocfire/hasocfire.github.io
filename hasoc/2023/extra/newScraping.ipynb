{
 "cells": [
  {
   "cell_type": "code",
   "execution_count": 1,
   "metadata": {},
   "outputs": [],
   "source": [
    "import requests\n",
    "from bs4 import BeautifulSoup\n",
    "import json"
   ]
  },
  {
   "cell_type": "code",
   "execution_count": null,
   "metadata": {},
   "outputs": [],
   "source": [
    "url = \"https://bengali.news18.com/\"\n",
    "response = requests.get(url)\n",
    "soup = BeautifulSoup(response.text)"
   ]
  },
  {
   "cell_type": "code",
   "execution_count": null,
   "metadata": {},
   "outputs": [],
   "source": [
    "urls = []\n",
    "for link in soup.find_all('a'):\n",
    "    if link.get('href') != None and link.get('href') != \"#\":\n",
    "        if link.get('href').startswith(\"/\"):\n",
    "            if \"https://bengali.news18.com\"+link.get('href') not in urls:\n",
    "                urls.append(\"https://bengali.news18.com\"+link.get('href'))\n",
    "        else:\n",
    "            if link.get('href') not in urls and \"bengali\" in link.get('href'):\n",
    "                urls.append(link.get('href'))"
   ]
  },
  {
   "cell_type": "code",
   "execution_count": null,
   "metadata": {},
   "outputs": [],
   "source": [
    "for url in urls:\n",
    "    if len(urls) < 10000:\n",
    "        try:\n",
    "            response = requests.get(url)\n",
    "            soup = BeautifulSoup(response.text)\n",
    "            for link in soup.find_all('a'):\n",
    "                if link.get('href') != None and link.get('href') != \"#\":\n",
    "                    if link.get('href').startswith(\"/\"):\n",
    "                        if \"https://bengali.news18.com\"+link.get('href') not in urls and \"news/\" in link.get('href') and \"whatsapp\" not in link.get(\"href\") and \"linkedin\" not in link.get(\"href\") and \"instagram\" not in link.get(\"href\") and \"twitter\" not in link.get(\"href\") and \"facebook\" not in link.get(\"href\") and \"telegram\" not in link.get(\"href\") and \"mailto\" not in link.get(\"href\") and link.get(\"href\").endswith(\".html\"):\n",
    "                            urls.append(\"https://bengali.news18.com\"+link.get('href'))\n",
    "                            print(\"https://bengali.news18.com\"+link.get('href'))\n",
    "                    else:\n",
    "                        if link.get('href') not in urls and \"bengali\" in link.get('href') and \"news/\" in link.get('href') and len(link.get('href')) > 75 and \"whatsapp\" not in link.get(\"href\") and \"linkedin\" not in link.get(\"href\") and \"instagram\" not in link.get(\"href\") and \"twitter\" not in link.get(\"href\") and \"facebook\" not in link.get(\"href\") and \"telegram\" not in link.get(\"href\") and \"mailto\" not in link.get(\"href\") and link.get(\"href\").endswith(\".html\"):\n",
    "                            urls.append(link.get('href'))\n",
    "                            print(link.get('href'))\n",
    "        except:\n",
    "            pass"
   ]
  },
  {
   "cell_type": "code",
   "execution_count": null,
   "metadata": {},
   "outputs": [],
   "source": [
    "for url in urls:\n",
    "    if \"news/\" in url:\n",
    "        with open(\"urlsB.txt\",\"a\",encoding=\"utf-8\") as f:\n",
    "            f.write(url+\"\\n\")"
   ]
  },
  {
   "cell_type": "code",
   "execution_count": 2,
   "metadata": {},
   "outputs": [],
   "source": [
    "with open(\"urlsB.txt\",\"r\") as f:\n",
    "    urlsFinal = f.read()\n",
    "urlsFinal = urlsFinal.split(\"\\n\")"
   ]
  },
  {
   "cell_type": "code",
   "execution_count": null,
   "metadata": {},
   "outputs": [],
   "source": [
    "urlsFinal"
   ]
  },
  {
   "cell_type": "code",
   "execution_count": 4,
   "metadata": {},
   "outputs": [
    {
     "name": "stdout",
     "output_type": "stream",
     "text": [
      "https://bengali.news18.com/news/west-midnapore/weather-update-rain-with-thunder-storm-alert-in-west-medinipur-al18-ank-1129767.html\n",
      "https://bengali.news18.com/news/purulia/kalboishakhi-rampage-in-the-district-imd-alert-issued-l18-rmj-1117333.html\n",
      "https://bengali.news18.com/news/north-bengal/west-bengal-weather-update-rain-heats-alipurduar-l18-arn-1113545.html\n",
      "https://bengali.news18.com/news/off-beat/optical-illusion-image-what-numbers-do-you-see-at-first-glance-tc-ss-1133409.html\n",
      "https://bengali.news18.com/news/off-beat/optical-illusion-tc-find-hidden-number-in-6-seconds-ss-1133406.html\n",
      "https://bengali.news18.com/news/national/wife-tries-to-prove-her-husband-dead-in-odisha-train-tragedy-to-get-compensation-dmg-1135325.html\n",
      "https://bengali.news18.com/news/national/odisha-train-accident-railway-report-finds-coromandel-express-entered-wrong-line-dmg-1128989.html\n",
      "https://bengali.news18.com/news/national/coromandal-express-accident-a-note-book-recovered-from-the-train-accident-site-al18-rmj-1129055.html\n",
      "https://bengali.news18.com/news/national/coromandel-express-accident-the-injured-in-the-coromandel-express-accident-are-being-brought-to-midnapore-medical-college-hospital-in-west-bengal-syr-1128786.html\n",
      "https://bengali.news18.com/news/off-beat/optical-illusion-this-picture-will-reveal-your-mental-age-say-what-you-see-first-tc-ss-1138049.html\n",
      "https://bengali.news18.com/news/education-career/madhyamik-exam-results-2023-haldia-cencer-patient-student-passed-exam-al18-sb-1109908.html\n",
      "https://bengali.news18.com/news/education-career/wbchse-results-2023-24th-may-2023-know-where-and-how-to-check-result-rc-1111209.html\n",
      "https://bengali.news18.com/news/murshidabad/father-abducted-his-own-daughter-from-in-laws-house-after-marriage-dd-l18-1111521.html\n",
      "https://bengali.news18.com/news/north-24-parganas/two-foreign-footballers-were-arrested-as-alleged-for-raping-young-woman-dd-l18-1110425.html\n",
      "https://bengali.news18.com/news/sports/shubhman-gill-got-out-again-for-low-score-in-second-innings-at-wtc-at-the-bowling-of-scott-boland-rrc-1139976.html\n",
      "https://bengali.news18.com/news/sports/virat-kohli-hails-shubhman-gill-as-more-talented-compared-to-him-before-wtc-final-at-oval-rrc-1134482.html\n",
      "https://bengali.news18.com/news/sports/wtc-final-2023-india-vs-australia-shubman-gill-reacts-on-social-media-after-cameron-green-controversial-catch-out-in-2nd-innings-at-oval-sup-1140288.html\n",
      "https://bengali.news18.com/news/sports/ipl-2023-10-star-players-may-be-dropped-from-kolkata-knight-riders-kkr-squad-before-of-ipl-2024-auction-sup-1111900.html\n",
      "https://bengali.news18.com/news/sports/rinku-singh-along-with-yashasvi-jaiswal-likely-to-play-for-india-against-afghanistan-as-senior-cricketers-will-be-rested-rrc-1118078.html\n",
      "https://bengali.news18.com/news/sports/kkr-targets-5-cricketers-for-next-season-in-ipl-in-major-change-of-momentum-at-the-kolkata-franchise-rrc-1115363.html\n",
      "https://bengali.news18.com/news/sports/robin-uthappa-supports-csk-and-blasts-kkr-supporter-on-question-of-being-loyal-to-the-kolkata-franchise-rrc-1115084.html\n",
      "https://bengali.news18.com/news/sports/andre-russell-looking-forward-to-win-last-three-group-matches-for-kkr-in-order-to-stay-alive-in-ipl-play-off-rrc-1094056.html\n",
      "https://bengali.news18.com/news/off-beat/optical-illusion-makes-you-try-to-find-when-055-turns-into-056-in-the-image-tc-arc-1122932.html\n",
      "https://bengali.news18.com/news/business/rbi-alerts-people-of-cyber-fraud-and-asks-them-not-to-use-unverified-websites-and-apps-for-money-transfer-dc-733126.html\n"
     ]
    }
   ],
   "source": [
    "data = []\n",
    "for url in urlsFinal:\n",
    "    try:\n",
    "        response = requests.get(url)\n",
    "        soup = BeautifulSoup(response.text,\"html.parser\")\n",
    "        scripts = soup.find_all('script', attrs={'type': 'application/ld+json'})\n",
    "        script = scripts[1]\n",
    "        j_obj = {\n",
    "                    'Link':json.loads(scripts[1].contents[0],strict=False)['url'],\n",
    "                    'Heading':json.loads(scripts[2].contents[0],strict=False)['headline'],\n",
    "                    'Subheading':json.loads(scripts[1].contents[0],strict=False)['description'],\n",
    "                    'Article':json.loads(scripts[2].contents[0],strict=False)['articleBody']\n",
    "                }\n",
    "        with open(\"Links.txt\",\"a\",encoding=\"utf-8\") as f:\n",
    "            f.write(j_obj[\"Link\"]+\"--------------------------------------\")\n",
    "        with open(\"Headings.txt\",\"a\",encoding=\"utf-8\") as f:\n",
    "            f.write(j_obj[\"Heading\"]+\"--------------------------------------\")\n",
    "        with open(\"Subheadings.txt\",\"a\",encoding=\"utf-8\") as f:\n",
    "            f.write(j_obj[\"Subheading\"]+\"--------------------------------------\")\n",
    "        with open(\"Articles.txt\",\"a\",encoding=\"utf-8\") as f:\n",
    "            f.write(j_obj[\"Article\"]+\"--------------------------------------\")\n",
    "        data.append(j_obj)\n",
    "        print(j_obj[\"Link\"])\n",
    "    except Exception as e:\n",
    "        print(e)\n"
   ]
  },
  {
   "cell_type": "code",
   "execution_count": 10,
   "metadata": {},
   "outputs": [
    {
     "data": {
      "text/plain": [
       "[]"
      ]
     },
     "execution_count": 10,
     "metadata": {},
     "output_type": "execute_result"
    }
   ],
   "source": [
    "data"
   ]
  },
  {
   "cell_type": "code",
   "execution_count": null,
   "metadata": {},
   "outputs": [],
   "source": [
    "with open(\"data.json\",\"w\") as f:\n",
    "    f.write(json.dumps(data))"
   ]
  },
  {
   "cell_type": "code",
   "execution_count": null,
   "metadata": {},
   "outputs": [],
   "source": []
  }
 ],
 "metadata": {
  "kernelspec": {
   "display_name": "Python 3",
   "language": "python",
   "name": "python3"
  },
  "language_info": {
   "codemirror_mode": {
    "name": "ipython",
    "version": 3
   },
   "file_extension": ".py",
   "mimetype": "text/x-python",
   "name": "python",
   "nbconvert_exporter": "python",
   "pygments_lexer": "ipython3",
   "version": "3.11.0"
  },
  "orig_nbformat": 4
 },
 "nbformat": 4,
 "nbformat_minor": 2
}
