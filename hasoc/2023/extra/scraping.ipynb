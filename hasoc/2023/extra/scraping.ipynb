{
  "cells": [
    {
      "cell_type": "code",
      "execution_count": null,
      "metadata": {
        "id": "f331u00f5bu3"
      },
      "outputs": [],
      "source": []
    },
    {
      "cell_type": "code",
      "execution_count": null,
      "metadata": {
        "colab": {
          "base_uri": "https://localhost:8080/"
        },
        "id": "0WQV3D2XJwcg",
        "outputId": "d433bec2-a7e2-412b-a87b-f8988512d6b4"
      },
      "outputs": [
        {
          "name": "stdout",
          "output_type": "stream",
          "text": [
            "Mounted at /content/drive\n"
          ]
        }
      ],
      "source": [
        "from google.colab import drive\n",
        "drive.mount('/content/drive')"
      ]
    },
    {
      "cell_type": "code",
      "execution_count": null,
      "metadata": {
        "colab": {
          "base_uri": "https://localhost:8080/"
        },
        "id": "7kCgqpxcLqza",
        "outputId": "991c2fa5-cd6d-4564-8158-f09501b600ae"
      },
      "outputs": [],
      "source": [
        "!pip install requests\n",
        "!pip install html5lib\n",
        "!pip install bs4\n",
        "!pip install selenium\n",
        "!apt-get update\n",
        "!apt install chromium-chromedriver\n",
        "import selenium\n",
        "from selenium import webdriver\n",
        "chrome_options = webdriver.ChromeOptions()\n",
        "chrome_options.add_argument('--headless')\n",
        "chrome_options.add_argument('--no-sandbox')\n",
        "chrome_options.add_argument('--disable-dev-shm-usage')\n",
        "wd = webdriver.Chrome('chromedriver',chrome_options=chrome_options)\n",
        "driver =webdriver.Chrome('chromedriver',chrome_options=chrome_options)\n",
        "from selenium.webdriver.common.by import By\n",
        "import requests\n",
        "from bs4 import BeautifulSoup"
      ]
    },
    {
      "cell_type": "code",
      "execution_count": null,
      "metadata": {
        "colab": {
          "base_uri": "https://localhost:8080/"
        },
        "id": "Cgerje3iV5sP",
        "outputId": "ca4e0714-5132-4205-eedb-fbc04010583b"
      },
      "outputs": [
        {
          "name": "stdout",
          "output_type": "stream",
          "text": [
            "Looking in indexes: https://pypi.org/simple, https://us-python.pkg.dev/colab-wheels/public/simple/\n",
            "Requirement already satisfied: nest-asyncio in /usr/local/lib/python3.7/dist-packages (1.5.5)\n",
            "Looking in indexes: https://pypi.org/simple, https://us-python.pkg.dev/colab-wheels/public/simple/\n",
            "Collecting aiohttp==3.1.1\n",
            "  Downloading aiohttp-3.1.1.tar.gz (751 kB)\n",
            "\u001b[K     |████████████████████████████████| 751 kB 5.4 MB/s \n",
            "\u001b[?25h  Installing build dependencies ... \u001b[?25l\u001b[?25hdone\n",
            "  Getting requirements to build wheel ... \u001b[?25l\u001b[?25hdone\n",
            "    Preparing wheel metadata ... \u001b[?25l\u001b[?25hdone\n",
            "Requirement already satisfied: attrs>=17.3.0 in /usr/local/lib/python3.7/dist-packages (from aiohttp==3.1.1) (21.4.0)\n",
            "Collecting async-timeout<3.0,>=1.2\n",
            "  Downloading async_timeout-2.0.1-py3-none-any.whl (5.9 kB)\n",
            "Collecting yarl<2.0,>=1.0\n",
            "  Downloading yarl-1.7.2-cp37-cp37m-manylinux_2_5_x86_64.manylinux1_x86_64.manylinux_2_12_x86_64.manylinux2010_x86_64.whl (271 kB)\n",
            "\u001b[K     |████████████████████████████████| 271 kB 71.9 MB/s \n",
            "\u001b[?25hCollecting multidict<5.0,>=4.0\n",
            "  Downloading multidict-4.7.6-cp37-cp37m-manylinux1_x86_64.whl (149 kB)\n",
            "\u001b[K     |████████████████████████████████| 149 kB 58.5 MB/s \n",
            "\u001b[?25hRequirement already satisfied: chardet<4.0,>=2.0 in /usr/local/lib/python3.7/dist-packages (from aiohttp==3.1.1) (3.0.4)\n",
            "Requirement already satisfied: typing-extensions>=3.7.4 in /usr/local/lib/python3.7/dist-packages (from yarl<2.0,>=1.0->aiohttp==3.1.1) (4.2.0)\n",
            "Requirement already satisfied: idna>=2.0 in /usr/local/lib/python3.7/dist-packages (from yarl<2.0,>=1.0->aiohttp==3.1.1) (2.10)\n",
            "Building wheels for collected packages: aiohttp\n",
            "  Building wheel for aiohttp (PEP 517) ... \u001b[?25l\u001b[?25hdone\n",
            "  Created wheel for aiohttp: filename=aiohttp-3.1.1-cp37-cp37m-linux_x86_64.whl size=644671 sha256=1ce0933a3a1e867801c97f50930adfd049600d2217436b51eb5f759cb5d7d2c8\n",
            "  Stored in directory: /root/.cache/pip/wheels/c4/1b/cb/ba0aa4c5733ecfd05e69ed3b6d529cd4554600b44777504d1e\n",
            "Successfully built aiohttp\n",
            "Installing collected packages: multidict, yarl, async-timeout, aiohttp\n",
            "Successfully installed aiohttp-3.1.1 async-timeout-2.0.1 multidict-4.7.6 yarl-1.7.2\n"
          ]
        }
      ],
      "source": [
        "!pip install nest-asyncio\n",
        "!pip install aiohttp==3.1.1"
      ]
    },
    {
      "cell_type": "code",
      "execution_count": null,
      "metadata": {
        "id": "N4vRTOrJV9z2"
      },
      "outputs": [],
      "source": [
        "import nest_asyncio\n",
        "nest_asyncio.apply()\n"
      ]
    },
    {
      "cell_type": "code",
      "execution_count": null,
      "metadata": {
        "colab": {
          "base_uri": "https://localhost:8080/"
        },
        "id": "xpsSN4YygkFE",
        "outputId": "c40ec9bf-70a4-48d5-d170-3090d5102478"
      },
      "outputs": [
        {
          "data": {
            "text/plain": [
              "29000"
            ]
          },
          "execution_count": 5,
          "metadata": {},
          "output_type": "execute_result"
        }
      ],
      "source": [
        "# with open('/content/drive/MyDrive/ILSUM/Data/test.txt', 'w') as f:\n",
        "#     f.write(json.dumps(urls))\n",
        "import json\n",
        "#Now read the file back into a Python list object\n",
        "with open('/content/drive/MyDrive/ILSUM/Data/test.txt', 'r') as f:\n",
        "    a = json.loads(f.read())\n",
        "\n",
        "len(a)"
      ]
    },
    {
      "cell_type": "code",
      "execution_count": null,
      "metadata": {
        "id": "jUa7tO7dZM_w"
      },
      "outputs": [],
      "source": [
        "#urls=a\n",
        "for i in range(29000):\n",
        "  if urls[i].startswith('https')==False:\n",
        "    urls[i]='https://gujarati.news18.com/'+urls[i]\n",
        "    print(i)\n"
      ]
    },
    {
      "cell_type": "code",
      "execution_count": null,
      "metadata": {
        "colab": {
          "base_uri": "https://localhost:8080/"
        },
        "id": "WQdOGIPmz2en",
        "outputId": "2b1c5910-9c67-4ecf-b423-a93986978982"
      },
      "outputs": [
        {
          "data": {
            "text/plain": [
              "27327"
            ]
          },
          "execution_count": 8,
          "metadata": {},
          "output_type": "execute_result"
        }
      ],
      "source": [
        "di=set(urls)\n",
        "urls=list(di)\n",
        "len(urls)"
      ]
    },
    {
      "cell_type": "code",
      "execution_count": null,
      "metadata": {
        "id": "MhykQimo9A03"
      },
      "outputs": [],
      "source": [
        "import aiohttp\n",
        "import json\n",
        "import asyncio\n",
        "from aiohttp import ClientSession\n",
        "import requests\n",
        "from bs4 import BeautifulSoup as bs\n",
        "\n",
        "async def fetch(url):\n",
        "  async with ClientSession() as session:\n",
        "    async with session.get(url) as response:\n",
        "      try:\n",
        "        a=await response.text()\n",
        "        soup = bs(a,\"html.parser\")\n",
        "        scripts = soup.find_all('script', attrs={'type': 'application/ld+json'})\n",
        "        script = scripts[1]\n",
        "        j_obj = {\n",
        "            'Link':json.loads(scripts[1].contents[0],strict=False)['url'],\n",
        "            'Heading':json.loads(scripts[1].contents[0],strict=False)['headline'],\n",
        "            'Subheading':json.loads(scripts[1].contents[0],strict=False)['description'],\n",
        "            'Article':json.loads(scripts[1].contents[0],strict=False)['articleBody']\n",
        "        }\n",
        "        return j_obj\n",
        "\n",
        "      except Exception:\n",
        "        return {}\n",
        "\n",
        "\n",
        "def fetch_all(url):\n",
        "    loop = asyncio.get_event_loop()\n",
        "\n",
        "    a=loop.run_until_complete(fetch(url))\n",
        "    return a\n"
      ]
    },
    {
      "cell_type": "code",
      "execution_count": null,
      "metadata": {
        "id": "0rsRHCyd-K9E"
      },
      "outputs": [],
      "source": [
        "import pandas as pd\n",
        "from multiprocessing import Pool\n",
        "if __name__=='__main__':\n",
        "\n",
        "    p = Pool(50)\n",
        "    data = p.map(fetch_all, list(urls[6000:7000]))\n",
        "    content=pd.DataFrame(data)\n",
        "    p.close()\n",
        "    p.join()\n",
        "# df= pd.DataFrame(columns=['Link','Heading','Subheading','Article'])\n",
        "# for i in range(len(urls)):\n",
        "#   df.loc[len(df.index)] = fetch_all(urls[i])"
      ]
    },
    {
      "cell_type": "code",
      "execution_count": null,
      "metadata": {
        "colab": {
          "base_uri": "https://localhost:8080/",
          "height": 468
        },
        "id": "G9nIkbXR6H5o",
        "outputId": "2d4c88ae-6292-4138-f2e2-44815b54e98e"
      },
      "outputs": [
        {
          "data": {
            "text/html": [
              "\n",
              "  <div id=\"df-f088210f-ce1a-41f5-9bf6-e568f2ed481d\">\n",
              "    <div class=\"colab-df-container\">\n",
              "      <div>\n",
              "<style scoped>\n",
              "    .dataframe tbody tr th:only-of-type {\n",
              "        vertical-align: middle;\n",
              "    }\n",
              "\n",
              "    .dataframe tbody tr th {\n",
              "        vertical-align: top;\n",
              "    }\n",
              "\n",
              "    .dataframe thead th {\n",
              "        text-align: right;\n",
              "    }\n",
              "</style>\n",
              "<table border=\"1\" class=\"dataframe\">\n",
              "  <thead>\n",
              "    <tr style=\"text-align: right;\">\n",
              "      <th></th>\n",
              "      <th>Link</th>\n",
              "      <th>Heading</th>\n",
              "      <th>Subheading</th>\n",
              "      <th>Article</th>\n",
              "    </tr>\n",
              "  </thead>\n",
              "  <tbody>\n",
              "    <tr>\n",
              "      <th>0</th>\n",
              "      <td>https://gujarati.news18.com/news/gujarat/kutch...</td>\n",
              "      <td>ભાવનગર: સરકારી શાળામાં ધો.1થી 5ના વર્ગો કરાયા ...</td>\n",
              "      <td>Bhavnagar News: ભાવનગરના હાદાનગર વિસ્તારમાં સર...</td>\n",
              "      <td>ભાવનગર: કોરોના મહામારીના  (Corona Pandemic) કા...</td>\n",
              "    </tr>\n",
              "    <tr>\n",
              "      <th>1</th>\n",
              "      <td>https://gujarati.news18.com/news/gujarat/south...</td>\n",
              "      <td>સુરતમાં પ્રસૂતા સાથે તબીબની ઘોર બેદરકારી, મૃતક...</td>\n",
              "      <td>Surat news: આ કેસમાં ડોક્ટરના વર્તનમાં વિરોધાભ...</td>\n",
              "      <td>સુરત: ડોક્ટરને ( Doctor) ભગવાનનું સ્વરૂપ માનવા...</td>\n",
              "    </tr>\n",
              "    <tr>\n",
              "      <th>2</th>\n",
              "      <td>https://gujarati.news18.com/news/gujarat/kutch...</td>\n",
              "      <td>જામનગર: પ્રેમિકાનું લગ્ન ન થાય તે માટે બોયફ્રે...</td>\n",
              "      <td>Jamnagar News: પોલીસે આરોપીના ફોનના લોકેશનની મ...</td>\n",
              "      <td>જામનગર: જામજોધપુરમાં એક ચોંકાવનારો કિસ્સો સામે...</td>\n",
              "    </tr>\n",
              "    <tr>\n",
              "      <th>3</th>\n",
              "      <td>https://gujarati.news18.com/photogallery/gujar...</td>\n",
              "      <td>ગીર: 10 વર્ષના બાળકે શિકાર બનાવવા જતા 14 ફૂટના...</td>\n",
              "      <td>14 ફૂટ લાંબા અજગર, આશીષને પોતાનો શિકાર બનાવે ત...</td>\n",
              "      <td>ગીર: માળિયા હાટિના તાલુકાના જલંધર ગામની સીમમા...</td>\n",
              "    </tr>\n",
              "    <tr>\n",
              "      <th>4</th>\n",
              "      <td>https://gujarati.news18.com/photogallery/gujar...</td>\n",
              "      <td>કડોદરા GIDCની કંપનીમાં આગ લાગતા બેના મોત, 100થ...</td>\n",
              "      <td>surat News: આગ લાગતા જ સુરત શહેર અને જિલ્લાની ...</td>\n",
              "      <td>સુરત: કડોદરા GIDCની (Kadodara GIDC) મિલમાં સવ...</td>\n",
              "    </tr>\n",
              "    <tr>\n",
              "      <th>...</th>\n",
              "      <td>...</td>\n",
              "      <td>...</td>\n",
              "      <td>...</td>\n",
              "      <td>...</td>\n",
              "    </tr>\n",
              "    <tr>\n",
              "      <th>681</th>\n",
              "      <td>https://gujarati.news18.com/news/rajkot/detent...</td>\n",
              "      <td>રાજકોટ : PCR વાનમાં જ પોલીસ કર્મીની રંગરલીયા, ...</td>\n",
              "      <td>રાજકોટ ગ્રામ્ય પોલીસનો વિડીયો વાઇરલ, રાહદારીઓએ...</td>\n",
              "      <td>રાજકોટ : ગ્રામ્ય પોલીસનો વિડીયો વાઇરલ થયો છે. ...</td>\n",
              "    </tr>\n",
              "    <tr>\n",
              "      <th>682</th>\n",
              "      <td>https://gujarati.news18.com/photogallery/madhy...</td>\n",
              "      <td>સોલા સિવિલ હૉસ્પિટલનું સ્વાસ્થ્ય 'મરણ પથારીએ,'...</td>\n",
              "      <td>Sola Civil Hospital Ahmedabad : અમદાવાદની સોલા...</td>\n",
              "      <td>\\r\\n\\r\\n સંજય ટાંક  અમદાવાદ : અમદાવાદમાં રાજ્...</td>\n",
              "    </tr>\n",
              "    <tr>\n",
              "      <th>683</th>\n",
              "      <td>https://gujarati.news18.com/news/gujarat/madhy...</td>\n",
              "      <td>વડોદરા: કેતન ઇનામદારને ન મળી બરોડા ડેરી સામે ધ...</td>\n",
              "      <td>Vadodara News: 'બરોડા ડેરીના સંચાલકો પૈસાના જો...</td>\n",
              "      <td>વડોદરા : પશુપાલકોને બરોડા ડેરી (Baroda Dairy) ...</td>\n",
              "    </tr>\n",
              "    <tr>\n",
              "      <th>684</th>\n",
              "      <td>https://gujarati.news18.com/photogallery/north...</td>\n",
              "      <td>બનાસકાંઠા: અમીરગઢ પાસે દૂધના ટેન્કર, બસ અને ટ્...</td>\n",
              "      <td>Banaskantha road accident: પાલનપુર- આબુ રોડ ને...</td>\n",
              "      <td>આનંદ જયસ્વાલ, બનાસકાંઠા: બનાસકાંઠામાં અમીરગઢ ...</td>\n",
              "    </tr>\n",
              "    <tr>\n",
              "      <th>685</th>\n",
              "      <td>https://gujarati.news18.com/news/gujarat/madhy...</td>\n",
              "      <td>ગુજરાતમાં સરેરાશ 76.44% વરસાદ, હજી ચાર દિવસ આ ...</td>\n",
              "      <td>Gujarat Weather Forecast: અત્યાર સુધીમાં સૌથી ...</td>\n",
              "      <td>અમદાવાદ: સપ્ટેમ્બર મહિનાની (Gujarat Rain in Se...</td>\n",
              "    </tr>\n",
              "  </tbody>\n",
              "</table>\n",
              "<p>686 rows × 4 columns</p>\n",
              "</div>\n",
              "      <button class=\"colab-df-convert\" onclick=\"convertToInteractive('df-f088210f-ce1a-41f5-9bf6-e568f2ed481d')\"\n",
              "              title=\"Convert this dataframe to an interactive table.\"\n",
              "              style=\"display:none;\">\n",
              "        \n",
              "  <svg xmlns=\"http://www.w3.org/2000/svg\" height=\"24px\"viewBox=\"0 0 24 24\"\n",
              "       width=\"24px\">\n",
              "    <path d=\"M0 0h24v24H0V0z\" fill=\"none\"/>\n",
              "    <path d=\"M18.56 5.44l.94 2.06.94-2.06 2.06-.94-2.06-.94-.94-2.06-.94 2.06-2.06.94zm-11 1L8.5 8.5l.94-2.06 2.06-.94-2.06-.94L8.5 2.5l-.94 2.06-2.06.94zm10 10l.94 2.06.94-2.06 2.06-.94-2.06-.94-.94-2.06-.94 2.06-2.06.94z\"/><path d=\"M17.41 7.96l-1.37-1.37c-.4-.4-.92-.59-1.43-.59-.52 0-1.04.2-1.43.59L10.3 9.45l-7.72 7.72c-.78.78-.78 2.05 0 2.83L4 21.41c.39.39.9.59 1.41.59.51 0 1.02-.2 1.41-.59l7.78-7.78 2.81-2.81c.8-.78.8-2.07 0-2.86zM5.41 20L4 18.59l7.72-7.72 1.47 1.35L5.41 20z\"/>\n",
              "  </svg>\n",
              "      </button>\n",
              "      \n",
              "  <style>\n",
              "    .colab-df-container {\n",
              "      display:flex;\n",
              "      flex-wrap:wrap;\n",
              "      gap: 12px;\n",
              "    }\n",
              "\n",
              "    .colab-df-convert {\n",
              "      background-color: #E8F0FE;\n",
              "      border: none;\n",
              "      border-radius: 50%;\n",
              "      cursor: pointer;\n",
              "      display: none;\n",
              "      fill: #1967D2;\n",
              "      height: 32px;\n",
              "      padding: 0 0 0 0;\n",
              "      width: 32px;\n",
              "    }\n",
              "\n",
              "    .colab-df-convert:hover {\n",
              "      background-color: #E2EBFA;\n",
              "      box-shadow: 0px 1px 2px rgba(60, 64, 67, 0.3), 0px 1px 3px 1px rgba(60, 64, 67, 0.15);\n",
              "      fill: #174EA6;\n",
              "    }\n",
              "\n",
              "    [theme=dark] .colab-df-convert {\n",
              "      background-color: #3B4455;\n",
              "      fill: #D2E3FC;\n",
              "    }\n",
              "\n",
              "    [theme=dark] .colab-df-convert:hover {\n",
              "      background-color: #434B5C;\n",
              "      box-shadow: 0px 1px 3px 1px rgba(0, 0, 0, 0.15);\n",
              "      filter: drop-shadow(0px 1px 2px rgba(0, 0, 0, 0.3));\n",
              "      fill: #FFFFFF;\n",
              "    }\n",
              "  </style>\n",
              "\n",
              "      <script>\n",
              "        const buttonEl =\n",
              "          document.querySelector('#df-f088210f-ce1a-41f5-9bf6-e568f2ed481d button.colab-df-convert');\n",
              "        buttonEl.style.display =\n",
              "          google.colab.kernel.accessAllowed ? 'block' : 'none';\n",
              "\n",
              "        async function convertToInteractive(key) {\n",
              "          const element = document.querySelector('#df-f088210f-ce1a-41f5-9bf6-e568f2ed481d');\n",
              "          const dataTable =\n",
              "            await google.colab.kernel.invokeFunction('convertToInteractive',\n",
              "                                                     [key], {});\n",
              "          if (!dataTable) return;\n",
              "\n",
              "          const docLinkHtml = 'Like what you see? Visit the ' +\n",
              "            '<a target=\"_blank\" href=https://colab.research.google.com/notebooks/data_table.ipynb>data table notebook</a>'\n",
              "            + ' to learn more about interactive tables.';\n",
              "          element.innerHTML = '';\n",
              "          dataTable['output_type'] = 'display_data';\n",
              "          await google.colab.output.renderOutput(dataTable, element);\n",
              "          const docLink = document.createElement('div');\n",
              "          docLink.innerHTML = docLinkHtml;\n",
              "          element.appendChild(docLink);\n",
              "        }\n",
              "      </script>\n",
              "    </div>\n",
              "  </div>\n",
              "  "
            ],
            "text/plain": [
              "                                                  Link  \\\n",
              "0    https://gujarati.news18.com/news/gujarat/kutch...   \n",
              "1    https://gujarati.news18.com/news/gujarat/south...   \n",
              "2    https://gujarati.news18.com/news/gujarat/kutch...   \n",
              "3    https://gujarati.news18.com/photogallery/gujar...   \n",
              "4    https://gujarati.news18.com/photogallery/gujar...   \n",
              "..                                                 ...   \n",
              "681  https://gujarati.news18.com/news/rajkot/detent...   \n",
              "682  https://gujarati.news18.com/photogallery/madhy...   \n",
              "683  https://gujarati.news18.com/news/gujarat/madhy...   \n",
              "684  https://gujarati.news18.com/photogallery/north...   \n",
              "685  https://gujarati.news18.com/news/gujarat/madhy...   \n",
              "\n",
              "                                               Heading  \\\n",
              "0    ભાવનગર: સરકારી શાળામાં ધો.1થી 5ના વર્ગો કરાયા ...   \n",
              "1    સુરતમાં પ્રસૂતા સાથે તબીબની ઘોર બેદરકારી, મૃતક...   \n",
              "2    જામનગર: પ્રેમિકાનું લગ્ન ન થાય તે માટે બોયફ્રે...   \n",
              "3    ગીર: 10 વર્ષના બાળકે શિકાર બનાવવા જતા 14 ફૂટના...   \n",
              "4    કડોદરા GIDCની કંપનીમાં આગ લાગતા બેના મોત, 100થ...   \n",
              "..                                                 ...   \n",
              "681  રાજકોટ : PCR વાનમાં જ પોલીસ કર્મીની રંગરલીયા, ...   \n",
              "682  સોલા સિવિલ હૉસ્પિટલનું સ્વાસ્થ્ય 'મરણ પથારીએ,'...   \n",
              "683  વડોદરા: કેતન ઇનામદારને ન મળી બરોડા ડેરી સામે ધ...   \n",
              "684  બનાસકાંઠા: અમીરગઢ પાસે દૂધના ટેન્કર, બસ અને ટ્...   \n",
              "685  ગુજરાતમાં સરેરાશ 76.44% વરસાદ, હજી ચાર દિવસ આ ...   \n",
              "\n",
              "                                            Subheading  \\\n",
              "0    Bhavnagar News: ભાવનગરના હાદાનગર વિસ્તારમાં સર...   \n",
              "1    Surat news: આ કેસમાં ડોક્ટરના વર્તનમાં વિરોધાભ...   \n",
              "2    Jamnagar News: પોલીસે આરોપીના ફોનના લોકેશનની મ...   \n",
              "3    14 ફૂટ લાંબા અજગર, આશીષને પોતાનો શિકાર બનાવે ત...   \n",
              "4    surat News: આગ લાગતા જ સુરત શહેર અને જિલ્લાની ...   \n",
              "..                                                 ...   \n",
              "681  રાજકોટ ગ્રામ્ય પોલીસનો વિડીયો વાઇરલ, રાહદારીઓએ...   \n",
              "682  Sola Civil Hospital Ahmedabad : અમદાવાદની સોલા...   \n",
              "683  Vadodara News: 'બરોડા ડેરીના સંચાલકો પૈસાના જો...   \n",
              "684  Banaskantha road accident: પાલનપુર- આબુ રોડ ને...   \n",
              "685  Gujarat Weather Forecast: અત્યાર સુધીમાં સૌથી ...   \n",
              "\n",
              "                                               Article  \n",
              "0    ભાવનગર: કોરોના મહામારીના  (Corona Pandemic) કા...  \n",
              "1    સુરત: ડોક્ટરને ( Doctor) ભગવાનનું સ્વરૂપ માનવા...  \n",
              "2    જામનગર: જામજોધપુરમાં એક ચોંકાવનારો કિસ્સો સામે...  \n",
              "3     ગીર: માળિયા હાટિના તાલુકાના જલંધર ગામની સીમમા...  \n",
              "4     સુરત: કડોદરા GIDCની (Kadodara GIDC) મિલમાં સવ...  \n",
              "..                                                 ...  \n",
              "681  રાજકોટ : ગ્રામ્ય પોલીસનો વિડીયો વાઇરલ થયો છે. ...  \n",
              "682   \\r\\n\\r\\n સંજય ટાંક  અમદાવાદ : અમદાવાદમાં રાજ્...  \n",
              "683  વડોદરા : પશુપાલકોને બરોડા ડેરી (Baroda Dairy) ...  \n",
              "684   આનંદ જયસ્વાલ, બનાસકાંઠા: બનાસકાંઠામાં અમીરગઢ ...  \n",
              "685  અમદાવાદ: સપ્ટેમ્બર મહિનાની (Gujarat Rain in Se...  \n",
              "\n",
              "[686 rows x 4 columns]"
            ]
          },
          "execution_count": 22,
          "metadata": {},
          "output_type": "execute_result"
        }
      ],
      "source": [
        "content.dropna(inplace=True)\n",
        "content.reset_index(inplace = True, drop = True)\n",
        "content"
      ]
    },
    {
      "cell_type": "code",
      "execution_count": null,
      "metadata": {
        "id": "H5gnXlXg6U0j"
      },
      "outputs": [],
      "source": [
        "content.to_csv('/content/drive/MyDrive/ILSUM/Data/6-7.csv', index=False)"
      ]
    },
    {
      "cell_type": "code",
      "execution_count": null,
      "metadata": {
        "id": "SKBzj7Zw8ezK"
      },
      "outputs": [],
      "source": []
    }
  ],
  "metadata": {
    "colab": {
      "provenance": []
    },
    "kernelspec": {
      "display_name": "Python 3",
      "name": "python3"
    },
    "language_info": {
      "name": "python"
    }
  },
  "nbformat": 4,
  "nbformat_minor": 0
}
