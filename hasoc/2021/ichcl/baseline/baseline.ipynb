{
 "cells": [
  {
   "cell_type": "markdown",
   "id": "narrative-emphasis",
   "metadata": {
    "id": "narrative-emphasis"
   },
   "source": [
    "<p>It is advisable that you read our introductory documentation webpage before moving on with understading the code. As it would help you understand the problem better.</p>\n",
    "<p>You can check it out <a href=\"https://hasocfire.github.io/hasoc/2021/ichcl/index.html\">here</a></p>"
   ]
  },
  {
   "cell_type": "markdown",
   "id": "continuing-violation",
   "metadata": {
    "id": "continuing-violation"
   },
   "source": [
    "### Importing Libraries and initializing stopwords and stemmer"
   ]
  },
  {
   "cell_type": "code",
   "execution_count": 1,
   "id": "fossil-enlargement",
   "metadata": {
    "id": "fossil-enlargement"
   },
   "outputs": [],
   "source": [
    "import pandas as pd\n",
    "import numpy as np\n",
    "from glob import glob\n",
    "import re\n",
    "import json\n",
    "\n",
    "from sklearn.feature_extraction.text import TfidfVectorizer\n",
    "from sklearn.model_selection import train_test_split\n",
    "from sklearn.linear_model import LogisticRegression\n",
    "from sklearn.metrics import classification_report\n",
    "from sklearn.preprocessing import LabelEncoder\n",
    "\n",
    "from tensorflow.keras import Sequential\n",
    "from tensorflow.keras.layers import Dense, Dropout\n",
    "\n",
    "\n",
    "from nltk.corpus import stopwords\n",
    "from nltk.stem import SnowballStemmer\n",
    "import stemmer as hindi_stemmer"
   ]
  },
  {
   "cell_type": "markdown",
   "id": "greenhouse-kitchen",
   "metadata": {
    "id": "greenhouse-kitchen"
   },
   "source": [
    "<p>Making a list of english and hindi stopwords. <br>The enlgish stopwords are retrieved from NLTK library as well. <br>And the hindi stopwords are retrieved from a data set on Mendeley Data. To read about how the authors compiled the list, you can check their <a href = \"https://arxiv.org/ftp/arxiv/papers/2002/2002.00171.pdf\" > publicaion </a> </p>\n",
    "<p>Initializing an english SnowballStemmer using the NLTK library. <br>And the hindi stemmer used was produced by students of Banasthali University. You can check out their <a href=\"https://arxiv.org/ftp/arxiv/papers/1305/1305.6211.pdf\">publication</a></p>"
   ]
  },
  {
   "cell_type": "code",
   "execution_count": 2,
   "id": "gentle-richards",
   "metadata": {
    "id": "gentle-richards"
   },
   "outputs": [],
   "source": [
    "english_stopwords = stopwords.words(\"english\")\n",
    "with open('final_stopwords.txt', encoding = 'utf-8') as f:\n",
    "    hindi_stopwords = f.readlines()\n",
    "    for i in range(len(hindi_stopwords)):\n",
    "        hindi_stopwords[i] = re.sub('\\n','',hindi_stopwords[i])\n",
    "stopwords = english_stopwords + hindi_stopwords\n",
    "english_stemmer = SnowballStemmer(\"english\")"
   ]
  },
  {
   "cell_type": "markdown",
   "id": "YeWusmHa9aFc",
   "metadata": {
    "id": "YeWusmHa9aFc"
   },
   "source": [
    "## Reading Data"
   ]
  },
  {
   "cell_type": "markdown",
   "id": "appreciated-bristol",
   "metadata": {
    "id": "appreciated-bristol"
   },
   "source": [
    "<p>Initializing a list of various directories that data is stored in using the glob Library.</p>"
   ]
  },
  {
   "cell_type": "code",
   "execution_count": 3,
   "id": "labeled-saskatchewan",
   "metadata": {
    "id": "labeled-saskatchewan"
   },
   "outputs": [],
   "source": [
    "train_directories = []\n",
    "for i in glob(\"data/train/*/\"):\n",
    "    for j in glob(i+'*/'):\n",
    "        train_directories.append(j)"
   ]
  },
  {
   "cell_type": "code",
   "execution_count": 4,
   "id": "patent-release",
   "metadata": {
    "id": "patent-release",
    "outputId": "090fa4f9-245d-4086-aed6-07f864a57faf",
    "scrolled": true
   },
   "outputs": [
    {
     "data": {
      "text/plain": [
       "['data/train\\\\bantwitter\\\\1397101600460529665\\\\',\n",
       " 'data/train\\\\bantwitter\\\\1397235232621932545\\\\',\n",
       " 'data/train\\\\bantwitter\\\\1397245294597783556\\\\',\n",
       " 'data/train\\\\bantwitter\\\\1397895650218430465\\\\',\n",
       " 'data/train\\\\bantwitter\\\\1397914911431217152\\\\',\n",
       " 'data/train\\\\bantwitter\\\\1397923242938015749\\\\',\n",
       " 'data/train\\\\bantwitter\\\\1397959669696634885\\\\',\n",
       " 'data/train\\\\casteism\\\\1391715849979924484\\\\',\n",
       " 'data/train\\\\casteism\\\\1394701718458310661\\\\',\n",
       " 'data/train\\\\casteism\\\\1394894310781321218\\\\',\n",
       " 'data/train\\\\casteism\\\\1394920395438886917\\\\',\n",
       " 'data/train\\\\casteism\\\\1394929122237845509\\\\',\n",
       " 'data/train\\\\casteism\\\\1395690830292160520\\\\',\n",
       " 'data/train\\\\casteism\\\\1395747405786537988\\\\',\n",
       " 'data/train\\\\casteism\\\\1395768553190604804\\\\',\n",
       " 'data/train\\\\casteism\\\\1397952483532566536\\\\',\n",
       " 'data/train\\\\casteism\\\\1398675045266853888\\\\',\n",
       " 'data/train\\\\charlie hebdo\\\\1392703278022938626\\\\',\n",
       " 'data/train\\\\charlie hebdo\\\\1392704604387770374\\\\',\n",
       " 'data/train\\\\charlie hebdo\\\\1392715113853964288\\\\',\n",
       " 'data/train\\\\charlie hebdo\\\\1392717752570241024\\\\',\n",
       " 'data/train\\\\Covid Crisis\\\\1383261325531353098\\\\',\n",
       " 'data/train\\\\Covid Crisis\\\\1385527614857646083\\\\',\n",
       " 'data/train\\\\Covid Crisis\\\\1385779864649691136\\\\',\n",
       " 'data/train\\\\Covid Crisis\\\\1386182358219460609\\\\',\n",
       " 'data/train\\\\Covid Crisis\\\\1386401947729633280\\\\',\n",
       " 'data/train\\\\Covid Crisis\\\\1390905967655546883\\\\',\n",
       " 'data/train\\\\Covid Crisis\\\\1391494336534093826\\\\',\n",
       " 'data/train\\\\Covid Crisis\\\\1391720958461808641\\\\',\n",
       " 'data/train\\\\Covid Crisis\\\\1391990111223500802\\\\',\n",
       " 'data/train\\\\Covid Crisis\\\\1392742952896659456\\\\',\n",
       " 'data/train\\\\Covid Crisis\\\\1393591100741275653\\\\',\n",
       " 'data/train\\\\Covid Crisis\\\\1394118403229503488\\\\',\n",
       " 'data/train\\\\Covid Crisis\\\\1394528104492658700\\\\',\n",
       " 'data/train\\\\Covid Crisis\\\\1395594496641880069\\\\',\n",
       " 'data/train\\\\Covid Crisis\\\\1395650386111778819\\\\',\n",
       " 'data/train\\\\Covid Crisis\\\\1396136884791767044\\\\',\n",
       " 'data/train\\\\Covid Crisis\\\\1398266366889705482\\\\',\n",
       " 'data/train\\\\Covid Crisis\\\\1398268834998411273\\\\',\n",
       " 'data/train\\\\Covid Crisis\\\\1398605185929277440\\\\',\n",
       " 'data/train\\\\indian politics\\\\1287772170538479627\\\\',\n",
       " 'data/train\\\\indian politics\\\\1390245301579968512\\\\',\n",
       " 'data/train\\\\indian politics\\\\1390378715360612357\\\\',\n",
       " 'data/train\\\\indian politics\\\\1390979182608326658\\\\',\n",
       " 'data/train\\\\indian politics\\\\1393620880840921088\\\\',\n",
       " 'data/train\\\\indian politics\\\\1394390667514712065\\\\',\n",
       " 'data/train\\\\indian politics\\\\1395677189870211073\\\\',\n",
       " 'data/train\\\\indian politics\\\\1395691784244580362\\\\',\n",
       " 'data/train\\\\indian politics\\\\1395707691197026307\\\\',\n",
       " 'data/train\\\\indian politics\\\\1396178670587236352\\\\',\n",
       " 'data/train\\\\indian politics\\\\1398308636653355013\\\\',\n",
       " 'data/train\\\\indian politics\\\\1398598597428482050\\\\',\n",
       " 'data/train\\\\indian politics\\\\1399042598401196036\\\\',\n",
       " 'data/train\\\\indian politics\\\\1399043076153282564\\\\',\n",
       " 'data/train\\\\indian politics\\\\1399045661434298374\\\\',\n",
       " 'data/train\\\\indian politics\\\\1413974963535552512\\\\',\n",
       " 'data/train\\\\indian politics\\\\676627652204060672\\\\',\n",
       " 'data/train\\\\Israel\\\\1391513979369914368\\\\',\n",
       " 'data/train\\\\Israel\\\\1391754900896468996\\\\',\n",
       " 'data/train\\\\Israel\\\\1392156226427916288\\\\',\n",
       " 'data/train\\\\Israel\\\\1392178612246257667\\\\',\n",
       " 'data/train\\\\Israel\\\\1392333796901408771\\\\',\n",
       " 'data/train\\\\Israel\\\\1392377122065289216\\\\',\n",
       " 'data/train\\\\Israel\\\\1393200211598614529\\\\',\n",
       " 'data/train\\\\Israel\\\\1394318424893886464\\\\',\n",
       " 'data/train\\\\religious controversies\\\\1391768816355446787\\\\',\n",
       " 'data/train\\\\religious controversies\\\\1392421466243837954\\\\',\n",
       " 'data/train\\\\religious controversies\\\\1392467674848919552\\\\',\n",
       " 'data/train\\\\religious controversies\\\\1392725164060594178\\\\',\n",
       " 'data/train\\\\religious controversies\\\\1393625939741794306\\\\',\n",
       " 'data/train\\\\religious controversies\\\\1393764797859078144\\\\',\n",
       " 'data/train\\\\religious controversies\\\\1394096960575926275\\\\',\n",
       " 'data/train\\\\religious controversies\\\\1394282990377738243\\\\',\n",
       " 'data/train\\\\religious controversies\\\\1394301726610497538\\\\',\n",
       " 'data/train\\\\religious controversies\\\\1394915940077162496\\\\',\n",
       " 'data/train\\\\religious controversies\\\\1394930678106492931\\\\',\n",
       " 'data/train\\\\religious controversies\\\\1394942092325974020\\\\',\n",
       " 'data/train\\\\wuhan virus\\\\1390863059334406149\\\\',\n",
       " 'data/train\\\\wuhan virus\\\\1390947358813261824\\\\',\n",
       " 'data/train\\\\wuhan virus\\\\1391744037753868289\\\\',\n",
       " 'data/train\\\\wuhan virus\\\\1392450559693651968\\\\',\n",
       " 'data/train\\\\wuhan virus\\\\1397974860232544266\\\\']"
      ]
     },
     "execution_count": 4,
     "metadata": {},
     "output_type": "execute_result"
    }
   ],
   "source": [
    "train_directories"
   ]
  },
  {
   "cell_type": "markdown",
   "id": "voluntary-stocks",
   "metadata": {
    "id": "voluntary-stocks"
   },
   "source": [
    "<p>Reading tree structured data from the directories from the .json files</p>"
   ]
  },
  {
   "cell_type": "code",
   "execution_count": 5,
   "id": "architectural-chase",
   "metadata": {
    "id": "architectural-chase"
   },
   "outputs": [],
   "source": [
    "data = []\n",
    "for i in train_directories:\n",
    "    with open(i+'data.json', encoding='utf-8') as f:\n",
    "        data.append(json.load(f))\n",
    "labels = []\n",
    "for i in train_directories:\n",
    "    with open(i+'labels.json', encoding='utf-8') as f:\n",
    "        labels.append(json.load(f))"
   ]
  },
  {
   "cell_type": "markdown",
   "id": "threatened-algorithm",
   "metadata": {
    "id": "threatened-algorithm"
   },
   "source": [
    "</p>Defining 2 functions that will turn the data from a tree structure to a flat structure.</p>\n",
    "<ul>\n",
    "    <li>tr_flatten: This is to flat the train data. It takes two variables as function parameters. First one is the tweet data and second one is labels. It'll create a list of json structures like following:\n",
    "        <ul>\n",
    "            <li> for source tweet: It'll create json with tweet_id, tweet text and label. </li>\n",
    "            <li> for comment: It'll create json with tweet_id, label and for the text part it'll append the comment after the source tweet. This is a basic technique to provide context of source tweet. </li>\n",
    "            <li> for reply: It'll create json with tweet_id, label and for the text part it'll append the reply after the comment after the source tweet. So the text here will look like \"source tweet-comment-reply\"</li>\n",
    "        </ul>\n",
    "    </li>\n",
    "    <li>te_flatten: This is to flat the test data. It works similarly like tr_flatten but without the labels file, as labels won't be available for test set. It'll be used once the test data is available</li>\n",
    "</ul>"
   ]
  },
  {
   "cell_type": "code",
   "execution_count": 6,
   "id": "wired-anniversary",
   "metadata": {
    "id": "wired-anniversary"
   },
   "outputs": [],
   "source": [
    "def tr_flatten(d,l):\n",
    "    flat_text = []\n",
    "    flat_text.append({\n",
    "        'tweet_id':d['tweet_id'],\n",
    "        'text':d['tweet'],\n",
    "        'label':l[d['tweet_id']]\n",
    "    })\n",
    "\n",
    "    for i in d['comments']:\n",
    "            flat_text.append({\n",
    "                'tweet_id':i['tweet_id'],\n",
    "                'text':flat_text[0]['text'] +' '+i['tweet'], #flattening comments(appending one after the other)\n",
    "                'label':l[i['tweet_id']]\n",
    "            })\n",
    "            if 'replies' in i.keys():\n",
    "                for j in i['replies']:\n",
    "                    flat_text.append({\n",
    "                        'tweet_id':j['tweet_id'],\n",
    "                        'text':flat_text[0]['text'] +' '+ i['tweet'] +' '+ j['tweet'], #flattening replies\n",
    "                        'label':l[j['tweet_id']]\n",
    "                    })\n",
    "    return flat_text\n",
    "\n",
    "def te_flatten(d):\n",
    "    flat_text = []\n",
    "    flat_text.append({\n",
    "        'tweet_id':d['tweet_id'],\n",
    "        'text':d['tweet'],\n",
    "    })\n",
    "\n",
    "    for i in d['comments']:\n",
    "            flat_text.append({\n",
    "                'tweet_id':i['tweet_id'],\n",
    "                'text':flat_text[0]['text'] + i['tweet'],\n",
    "            })\n",
    "            if 'replies' in i.keys():\n",
    "                for j in i['replies']:\n",
    "                    flat_text.append({\n",
    "                        'tweet_id':j['tweet_id'],\n",
    "                        'text':flat_text[0]['text'] + i['tweet'] + j['tweet'],\n",
    "                    })\n",
    "    return flat_text"
   ]
  },
  {
   "cell_type": "markdown",
   "id": "cardiac-catholic",
   "metadata": {
    "id": "cardiac-catholic"
   },
   "source": [
    "<p>This cell will run both the flatten functions. Again, you can skip the test part if it is not available. The train_len variable will be used later on for splitting the data.</p>"
   ]
  },
  {
   "cell_type": "code",
   "execution_count": 7,
   "id": "wrapped-cancellation",
   "metadata": {
    "id": "wrapped-cancellation"
   },
   "outputs": [],
   "source": [
    "data_label = []\n",
    "#for train\n",
    "for i in range(len(labels)):\n",
    "    for j in tr_flatten(data[i], labels[i]):\n",
    "        data_label.append(j)\n",
    "train_len = len(data_label)"
   ]
  },
  {
   "cell_type": "code",
   "execution_count": 8,
   "id": "limiting-lighter",
   "metadata": {
    "id": "limiting-lighter"
   },
   "outputs": [],
   "source": [
    "df = pd.DataFrame(data_label, columns = data_label[0].keys(), index = None)"
   ]
  },
  {
   "cell_type": "code",
   "execution_count": 9,
   "id": "functioning-asthma",
   "metadata": {
    "id": "functioning-asthma",
    "outputId": "5f577c5d-2df1-47ff-c300-6f65b7aa4c45"
   },
   "outputs": [
    {
     "data": {
      "text/html": [
       "<div>\n",
       "<style scoped>\n",
       "    .dataframe tbody tr th:only-of-type {\n",
       "        vertical-align: middle;\n",
       "    }\n",
       "\n",
       "    .dataframe tbody tr th {\n",
       "        vertical-align: top;\n",
       "    }\n",
       "\n",
       "    .dataframe thead th {\n",
       "        text-align: right;\n",
       "    }\n",
       "</style>\n",
       "<table border=\"1\" class=\"dataframe\">\n",
       "  <thead>\n",
       "    <tr style=\"text-align: right;\">\n",
       "      <th></th>\n",
       "      <th>tweet_id</th>\n",
       "      <th>text</th>\n",
       "      <th>label</th>\n",
       "    </tr>\n",
       "  </thead>\n",
       "  <tbody>\n",
       "    <tr>\n",
       "      <th>0</th>\n",
       "      <td>1397101600460529665</td>\n",
       "      <td>Countries which have Banned Twitter\\n\\n🇨🇳 Chin...</td>\n",
       "      <td>HOF</td>\n",
       "    </tr>\n",
       "    <tr>\n",
       "      <th>1</th>\n",
       "      <td>1397101827116703744</td>\n",
       "      <td>Countries which have Banned Twitter\\n\\n🇨🇳 Chin...</td>\n",
       "      <td>NONE</td>\n",
       "    </tr>\n",
       "    <tr>\n",
       "      <th>2</th>\n",
       "      <td>1397101939674869763</td>\n",
       "      <td>Countries which have Banned Twitter\\n\\n🇨🇳 Chin...</td>\n",
       "      <td>HOF</td>\n",
       "    </tr>\n",
       "    <tr>\n",
       "      <th>3</th>\n",
       "      <td>1397102700173488133</td>\n",
       "      <td>Countries which have Banned Twitter\\n\\n🇨🇳 Chin...</td>\n",
       "      <td>HOF</td>\n",
       "    </tr>\n",
       "    <tr>\n",
       "      <th>4</th>\n",
       "      <td>1397102906004754433</td>\n",
       "      <td>Countries which have Banned Twitter\\n\\n🇨🇳 Chin...</td>\n",
       "      <td>HOF</td>\n",
       "    </tr>\n",
       "  </tbody>\n",
       "</table>\n",
       "</div>"
      ],
      "text/plain": [
       "              tweet_id                                               text  \\\n",
       "0  1397101600460529665  Countries which have Banned Twitter\\n\\n🇨🇳 Chin...   \n",
       "1  1397101827116703744  Countries which have Banned Twitter\\n\\n🇨🇳 Chin...   \n",
       "2  1397101939674869763  Countries which have Banned Twitter\\n\\n🇨🇳 Chin...   \n",
       "3  1397102700173488133  Countries which have Banned Twitter\\n\\n🇨🇳 Chin...   \n",
       "4  1397102906004754433  Countries which have Banned Twitter\\n\\n🇨🇳 Chin...   \n",
       "\n",
       "  label  \n",
       "0   HOF  \n",
       "1  NONE  \n",
       "2   HOF  \n",
       "3   HOF  \n",
       "4   HOF  "
      ]
     },
     "execution_count": 9,
     "metadata": {},
     "output_type": "execute_result"
    }
   ],
   "source": [
    "df.head()"
   ]
  },
  {
   "cell_type": "code",
   "execution_count": 10,
   "id": "searching-batman",
   "metadata": {
    "id": "searching-batman",
    "outputId": "82708ad2-d18d-4f3b-9a01-33d8beb75b16"
   },
   "outputs": [
    {
     "data": {
      "text/plain": [
       "NONE    2899\n",
       "HOF     2841\n",
       "Name: label, dtype: int64"
      ]
     },
     "execution_count": 10,
     "metadata": {},
     "output_type": "execute_result"
    }
   ],
   "source": [
    "df['label'].value_counts()"
   ]
  },
  {
   "cell_type": "code",
   "execution_count": 11,
   "id": "treated-machinery",
   "metadata": {
    "id": "treated-machinery"
   },
   "outputs": [],
   "source": [
    "tweets = df.text\n",
    "y = df.label"
   ]
  },
  {
   "cell_type": "markdown",
   "id": "COEGvpuj9hZ5",
   "metadata": {
    "id": "COEGvpuj9hZ5"
   },
   "source": [
    "## Preprocessing and featuring the raw text"
   ]
  },
  {
   "cell_type": "markdown",
   "id": "conscious-dress",
   "metadata": {
    "id": "conscious-dress"
   },
   "source": [
    "<p>This is a preprocessing function and the regex will match with anything that is not English, Hindi and Emoji.</p>\n",
    "<p>The preprocessing steps are as followed:</p>\n",
    "<ul>\n",
    "    <li>Remove Handles</li>\n",
    "    <li>Remove URLs</li>    \n",
    "    <li>Remove anything that is not English, Hindi and Emoji</li>    \n",
    "    <li>Remove RT which appears in retweets</li>    \n",
    "    <li>Remove Abundant Newlines</li>    \n",
    "    <li>Remove Abundant whitespaces</li>    \n",
    "    <li>Remove Stopwords</li>\n",
    "    <li>Stem English text</li>\n",
    "    <li>Stem Hindi text</li>\n",
    "</ul>"
   ]
  },
  {
   "cell_type": "code",
   "execution_count": 12,
   "id": "included-bearing",
   "metadata": {
    "id": "included-bearing"
   },
   "outputs": [],
   "source": [
    "regex_for_english_hindi_emojis=\"[^a-zA-Z#\\U0001F300-\\U0001F5FF'|'\\U0001F600-\\U0001F64F'|'\\U0001F680-\\U0001F6FF'|'\\u2600-\\u26FF\\u2700-\\u27BF\\u0900-\\u097F]\"\n",
    "def clean_tweet(tweet):\n",
    "    tweet = re.sub(r\"@[A-Za-z0-9]+\",' ', tweet)\n",
    "    tweet = re.sub(r\"https?://[A-Za-z0-9./]+\",' ', tweet)\n",
    "    tweet = re.sub(regex_for_english_hindi_emojis,' ', tweet)\n",
    "    tweet = re.sub(\"RT \", \" \", tweet)\n",
    "    tweet = re.sub(\"\\n\", \" \", tweet)\n",
    "    tweet = re.sub(r\" +\", \" \", tweet)\n",
    "    tokens = []\n",
    "    for token in tweet.split():\n",
    "        if token not in stopwords:\n",
    "            token = english_stemmer.stem(token)\n",
    "            token = hindi_stemmer.hi_stem(token)\n",
    "            tokens.append(token)\n",
    "    return \" \".join(tokens)"
   ]
  },
  {
   "cell_type": "code",
   "execution_count": 13,
   "id": "decimal-sarah",
   "metadata": {
    "id": "decimal-sarah"
   },
   "outputs": [],
   "source": [
    "cleaned_tweets = [clean_tweet(tweet) for tweet in tweets]"
   ]
  },
  {
   "cell_type": "markdown",
   "id": "august-gateway",
   "metadata": {
    "id": "august-gateway"
   },
   "source": [
    "<p>Using TF-IDF for featuring the text. The vectorizer will only consider vocab terms that appear in more than 5 documents.</p>\n",
    "<p>To learn more about TF-IDF you can check <a href = \"https://towardsdatascience.com/tf-term-frequency-idf-inverse-document-frequency-from-scratch-in-python-6c2b61b78558\">here</a> and <a href = \"https://scikit-learn.org/stable/modules/generated/sklearn.feature_extraction.text.TfidfVectorizer.html\">here</a>.</p>"
   ]
  },
  {
   "cell_type": "code",
   "execution_count": 14,
   "id": "floating-hudson",
   "metadata": {
    "id": "floating-hudson"
   },
   "outputs": [],
   "source": [
    "vectorizer = TfidfVectorizer(min_df = 5)\n",
    "X = vectorizer.fit_transform(cleaned_tweets)\n",
    "X = X.todense()"
   ]
  },
  {
   "cell_type": "markdown",
   "id": "wJ8kmLB29mbC",
   "metadata": {
    "id": "wJ8kmLB29mbC"
   },
   "source": [
    "## Training and evaluating model"
   ]
  },
  {
   "cell_type": "code",
   "execution_count": 15,
   "id": "periodic-intake",
   "metadata": {
    "id": "periodic-intake"
   },
   "outputs": [],
   "source": [
    "X_train, X_val, y_train, y_val = train_test_split(X, y, test_size=0.2, random_state=42)"
   ]
  },
  {
   "cell_type": "markdown",
   "id": "compatible-airfare",
   "metadata": {
    "id": "compatible-airfare"
   },
   "source": [
    "<p>Training the Logistic Regression classifier provided by Scikit-Learn library.</p>\n",
    "<p>To learn more about Logistic Regression classifier you can check <a href = \"https://www.youtube.com/watch?v=yIYKR4sgzI8\">here</a> and <a href = \"https://scikit-learn.org/stable/modules/generated/sklearn.linear_model.LogisticRegression.html\">here</a>.</p>"
   ]
  },
  {
   "cell_type": "code",
   "execution_count": 16,
   "id": "emotional-subsection",
   "metadata": {
    "id": "emotional-subsection",
    "outputId": "63e90d48-dfe5-411c-8d66-b9a9ea267589"
   },
   "outputs": [
    {
     "data": {
      "text/plain": [
       "LogisticRegression()"
      ]
     },
     "execution_count": 16,
     "metadata": {},
     "output_type": "execute_result"
    }
   ],
   "source": [
    "classifier = LogisticRegression()\n",
    "classifier.fit(X_train, y_train)"
   ]
  },
  {
   "cell_type": "markdown",
   "id": "connected-soccer",
   "metadata": {
    "id": "connected-soccer"
   },
   "source": [
    "<p>Predicting and priting classification metrics for validation set.</p>"
   ]
  },
  {
   "cell_type": "code",
   "execution_count": 17,
   "id": "arabic-appreciation",
   "metadata": {
    "id": "arabic-appreciation"
   },
   "outputs": [],
   "source": [
    "y_pred = classifier.predict(X_val)"
   ]
  },
  {
   "cell_type": "code",
   "execution_count": 18,
   "id": "challenging-intersection",
   "metadata": {
    "id": "challenging-intersection",
    "outputId": "2e8bea3f-60e2-4863-909f-1591f9b2e04a"
   },
   "outputs": [
    {
     "name": "stdout",
     "output_type": "stream",
     "text": [
      "              precision    recall  f1-score   support\n",
      "\n",
      "         HOF       0.73      0.70      0.72       577\n",
      "        NONE       0.71      0.74      0.73       571\n",
      "\n",
      "    accuracy                           0.72      1148\n",
      "   macro avg       0.72      0.72      0.72      1148\n",
      "weighted avg       0.72      0.72      0.72      1148\n",
      "\n"
     ]
    }
   ],
   "source": [
    "print(classification_report(y_val, y_pred))"
   ]
  },
  {
   "cell_type": "code",
   "execution_count": 19,
   "id": "pending-carol",
   "metadata": {},
   "outputs": [],
   "source": [
    "le = LabelEncoder() #label encoding labels for training Dense Neural Network\n",
    "y_train = le.fit_transform(y_train)\n",
    "y_val = le.transform(y_val)"
   ]
  },
  {
   "cell_type": "code",
   "execution_count": 20,
   "id": "productive-simple",
   "metadata": {},
   "outputs": [],
   "source": [
    "model = Sequential(\n",
    "    [\n",
    "        Dense(64, activation=\"relu\"),\n",
    "        Dense(32, activation=\"relu\"),\n",
    "        Dense(1, activation=\"sigmoid\"),\n",
    "    ]\n",
    ")\n",
    "model.compile('adam', loss='binary_crossentropy', metrics = ['accuracy']) #compiling a neural network with 3 layers for classification"
   ]
  },
  {
   "cell_type": "code",
   "execution_count": 21,
   "id": "provincial-freeze",
   "metadata": {},
   "outputs": [
    {
     "name": "stdout",
     "output_type": "stream",
     "text": [
      "Epoch 1/5\n",
      "144/144 [==============================] - 0s 2ms/step - loss: 0.6278 - accuracy: 0.6699\n",
      "Epoch 2/5\n",
      "144/144 [==============================] - 0s 2ms/step - loss: 0.5244 - accuracy: 0.7485\n",
      "Epoch 3/5\n",
      "144/144 [==============================] - 0s 2ms/step - loss: 0.4523 - accuracy: 0.7966\n",
      "Epoch 4/5\n",
      "144/144 [==============================] - 0s 2ms/step - loss: 0.3852 - accuracy: 0.8341\n",
      "Epoch 5/5\n",
      "144/144 [==============================] - 0s 2ms/step - loss: 0.3311 - accuracy: 0.8643\n"
     ]
    },
    {
     "data": {
      "text/plain": [
       "<tensorflow.python.keras.callbacks.History at 0x18a9fb65448>"
      ]
     },
     "execution_count": 21,
     "metadata": {},
     "output_type": "execute_result"
    }
   ],
   "source": [
    "model.fit(X_train, y_train, epochs = 5, batch_size = 32)"
   ]
  },
  {
   "cell_type": "code",
   "execution_count": 22,
   "id": "close-smooth",
   "metadata": {},
   "outputs": [],
   "source": [
    "y_pred = model.predict(X_val)\n",
    "y_pred = (y_pred > 0.5).astype('int64')\n",
    "y_pred = y_pred.reshape(len(y_pred))    "
   ]
  },
  {
   "cell_type": "code",
   "execution_count": 23,
   "id": "optical-messaging",
   "metadata": {},
   "outputs": [
    {
     "name": "stdout",
     "output_type": "stream",
     "text": [
      "              precision    recall  f1-score   support\n",
      "\n",
      "           0       0.70      0.71      0.71       577\n",
      "           1       0.71      0.70      0.70       571\n",
      "\n",
      "    accuracy                           0.70      1148\n",
      "   macro avg       0.70      0.70      0.70      1148\n",
      "weighted avg       0.70      0.70      0.70      1148\n",
      "\n"
     ]
    }
   ],
   "source": [
    "print(classification_report(y_val, y_pred))"
   ]
  },
  {
   "cell_type": "markdown",
   "id": "satisfactory-affect",
   "metadata": {
    "id": "satisfactory-affect"
   },
   "source": [
    "## Predicting test data and making a sample submission file"
   ]
  },
  {
   "cell_type": "markdown",
   "id": "other-smile",
   "metadata": {},
   "source": [
    "<p>This part will be used to read and make predictions on the test data once the it is made available. When it is available, make a directory in data directory as 'test' and copy the story direcotries into the test directory.</p>"
   ]
  },
  {
   "cell_type": "code",
   "execution_count": null,
   "id": "horizontal-settlement",
   "metadata": {},
   "outputs": [],
   "source": [
    "test_directories = []\n",
    "for i in glob(\"data/test/*/\"):\n",
    "    for j in glob(i+'*/'):\n",
    "        test_directories.append(j)"
   ]
  },
  {
   "cell_type": "code",
   "execution_count": null,
   "id": "simple-burlington",
   "metadata": {},
   "outputs": [],
   "source": [
    "test_directories"
   ]
  },
  {
   "cell_type": "markdown",
   "id": "spoken-arbitration",
   "metadata": {},
   "source": [
    "<p>The test directories do not contain labels.json file so labels list is not initialized for test data.</p>"
   ]
  },
  {
   "cell_type": "code",
   "execution_count": null,
   "id": "czech-library",
   "metadata": {},
   "outputs": [],
   "source": [
    "test_data = []\n",
    "for i in test_directories:\n",
    "    with open(i+'data.json', encoding='utf-8') as f:\n",
    "        data.append(json.load(f))"
   ]
  },
  {
   "cell_type": "markdown",
   "id": "proud-employment",
   "metadata": {},
   "source": [
    "<p>Flattening the test data.</p>"
   ]
  },
  {
   "cell_type": "code",
   "execution_count": null,
   "id": "arctic-theology",
   "metadata": {},
   "outputs": [],
   "source": [
    "test_tweetid_data = []\n",
    "#for test\n",
    "for i in range(len(labels), len(data)):\n",
    "    for j in te_flatten(data[i]):\n",
    "        test_tweetid_data.append(j)"
   ]
  },
  {
   "cell_type": "code",
   "execution_count": null,
   "id": "brief-converter",
   "metadata": {},
   "outputs": [],
   "source": [
    "test_df = pd.DataFrame(test_tweetid_data, columns = test_tweetid_data[0].keys(), index = None)"
   ]
  },
  {
   "cell_type": "code",
   "execution_count": null,
   "id": "adequate-charity",
   "metadata": {},
   "outputs": [],
   "source": [
    "test_df.head()"
   ]
  },
  {
   "cell_type": "code",
   "execution_count": null,
   "id": "filled-hungarian",
   "metadata": {},
   "outputs": [],
   "source": [
    "test_tweets = test_df.text\n",
    "tweet_ids = test_df.tweet_id"
   ]
  },
  {
   "cell_type": "code",
   "execution_count": null,
   "id": "worse-cleaning",
   "metadata": {},
   "outputs": [],
   "source": [
    "cleaned_test = [clean_tweet(tweet) for tweet in test_tweets]"
   ]
  },
  {
   "cell_type": "code",
   "execution_count": null,
   "id": "agricultural-rescue",
   "metadata": {},
   "outputs": [],
   "source": [
    "X_test = vectorizer.transform(cleaned_test)\n",
    "X_test = X_test.todense()"
   ]
  },
  {
   "cell_type": "code",
   "execution_count": null,
   "id": "crude-fleet",
   "metadata": {
    "id": "crude-fleet"
   },
   "outputs": [],
   "source": [
    "submission_prediction = classifier.predict(X_test)\n",
    "submission = {'tweet_id': tweet_ids, 'label':submission_prediction}\n",
    "submission = pd.DataFrame(submission)"
   ]
  },
  {
   "cell_type": "code",
   "execution_count": null,
   "id": "hired-relief",
   "metadata": {
    "id": "hired-relief"
   },
   "outputs": [],
   "source": [
    "submission.to_csv('data/sample_submission.csv', index = False)"
   ]
  }
 ],
 "metadata": {
  "colab": {
   "collapsed_sections": [
    "continuing-violation",
    "YeWusmHa9aFc",
    "COEGvpuj9hZ5",
    "wJ8kmLB29mbC",
    "satisfactory-affect"
   ],
   "name": "baseline.ipynb",
   "provenance": []
  },
  "kernelspec": {
   "display_name": "iim-n",
   "language": "python",
   "name": "iim-n"
  },
  "language_info": {
   "codemirror_mode": {
    "name": "ipython",
    "version": 3
   },
   "file_extension": ".py",
   "mimetype": "text/x-python",
   "name": "python",
   "nbconvert_exporter": "python",
   "pygments_lexer": "ipython3",
   "version": "3.7.6"
  }
 },
 "nbformat": 4,
 "nbformat_minor": 5
}
